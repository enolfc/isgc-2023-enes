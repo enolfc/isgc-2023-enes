{
 "cells": [
  {
   "cell_type": "markdown",
   "id": "9ec973e3-8f83-44bf-bb26-25e5e91e1e8f",
   "metadata": {},
   "source": [
    "# Data Visualization with GeoPy, Folium and hvplot\n",
    "\n",
    "**GeoPy**: a Python client to locate the coordinates of addresses, cities, countries, and landmarks across the globe using third-party geocoders and other data sources. https://geopy.readthedocs.io/en/stable/\n",
    " \n",
    "**Folium**: to visualize data that’s been manipulated in Python on an interactive leaflet map. http://python-visualization.github.io/folium/\n",
    "\n",
    "**hvPlot**: a high-level plotting API built on HoloViews that provides a general and consistent API to create interactively explorable Bokeh plots with panning, zooming, hovering, and clickable/selectable legends. https://hvplot.holoviz.org/"
   ]
  },
  {
   "cell_type": "code",
   "execution_count": null,
   "id": "bd68bc12-171d-4811-a0ce-79917aed46ac",
   "metadata": {},
   "outputs": [],
   "source": [
    "import numpy as np\n",
    "import pandas as pd\n",
    "import xarray as xr\n",
    "import intake\n",
    "from ipywidgets import widgets\n",
    "from geopy.geocoders import Nominatim\n",
    "import folium \n",
    "import hvplot.pandas\n",
    "import warnings\n",
    "warnings.filterwarnings(\"ignore\")\n",
    "from os.path import expanduser\n",
    "home = expanduser(\"~\")"
   ]
  },
  {
   "cell_type": "markdown",
   "id": "cf702140-ad81-463f-a967-ddc9076d3ced",
   "metadata": {},
   "source": [
    "### Choose a location\n",
    "<a id='selection'></a>"
   ]
  },
  {
   "cell_type": "code",
   "execution_count": null,
   "id": "889120f6-2a0c-4e41-a81d-2077cf89b80d",
   "metadata": {},
   "outputs": [],
   "source": [
    "place_box = widgets.Text(description=\"Enter place:\", value=\"Taipei\")\n",
    "display(place_box)"
   ]
  },
  {
   "cell_type": "code",
   "execution_count": null,
   "id": "38f721d8-3f7d-4213-b307-088bfc3cb46b",
   "metadata": {},
   "outputs": [],
   "source": [
    "# The Nominatim module is used to retrieve the geographical coordinates of the selected place\n",
    "\n",
    "geolocator = Nominatim(user_agent=\"any_agent\")\n",
    "location = geolocator.geocode(place_box.value)\n",
    "\n",
    "print(location.address)\n",
    "print((location.latitude, location.longitude))"
   ]
  },
  {
   "cell_type": "code",
   "execution_count": null,
   "id": "2d1f9164-aa26-4b12-aff5-2a0ed478da40",
   "metadata": {},
   "outputs": [],
   "source": [
    "# The folium package is used to plot our selected geolocation on a map\n",
    "\n",
    "m = folium.Map(location=[location.latitude, location.longitude])\n",
    "tooltip = location.latitude, location.longitude\n",
    "folium.Marker([location.latitude, location.longitude], tooltip=tooltip).add_to(m)\n",
    "display(m)"
   ]
  },
  {
   "cell_type": "markdown",
   "id": "b5ded9e3-1f78-4b0c-aeeb-9c1fb0179061",
   "metadata": {},
   "source": [
    "### Select a dataset"
   ]
  },
  {
   "cell_type": "code",
   "execution_count": null,
   "id": "348d5066-334c-4150-a725-6f3a117f7d45",
   "metadata": {},
   "outputs": [],
   "source": [
    "esm_file = home+\"/CMIP6_ESM_collection_file_datahub.json\"\n",
    "col = intake.open_esm_datastore(esm_file)"
   ]
  },
  {
   "cell_type": "code",
   "execution_count": null,
   "id": "f022fbb8-e3f7-4a26-a571-f1e0610cf330",
   "metadata": {},
   "outputs": [],
   "source": [
    "query = dict(source_id=\"CMCC-ESM2\",\n",
    "             experiment_id=\"ssp585\",\n",
    "             variable_id=\"tasmax\",\n",
    "             table_id=\"day\"\n",
    ")\n",
    "cat = col.search(**query)\n",
    "cat.df"
   ]
  },
  {
   "cell_type": "markdown",
   "id": "12b0f64e-d70a-4500-84ea-8b1df86e716c",
   "metadata": {},
   "source": [
    "### Choose a time interval\n",
    "\n",
    "For example choose 2015 - 2050 to have some representative plot at the end"
   ]
  },
  {
   "cell_type": "code",
   "execution_count": null,
   "id": "f817212c-d70a-423f-a550-c13847fe3989",
   "metadata": {},
   "outputs": [],
   "source": [
    "start = widgets.SelectionSlider(\n",
    "    options=range(int(min(cat.df[\"start_year\"])),int(max(cat.df[\"end_year\"]))+1),\n",
    "    value=int(min(cat.df[\"start_year\"])),\n",
    "    description='Start Year:',\n",
    "    disabled=False,\n",
    "    continuous_update=False,\n",
    "    orientation='horizontal',\n",
    "    readout=True\n",
    ")\n",
    "display(start)"
   ]
  },
  {
   "cell_type": "code",
   "execution_count": null,
   "id": "778727da-0066-4213-b316-21be190da4ea",
   "metadata": {},
   "outputs": [],
   "source": [
    "end = widgets.SelectionSlider(\n",
    "    options=range(start.value,int(max(cat.df[\"end_year\"]))+1),\n",
    "    value=2050,\n",
    "    description='End Year:',\n",
    "    disabled=False,\n",
    "    continuous_update=False,\n",
    "    orientation='horizontal',\n",
    "    readout=True\n",
    ")\n",
    "display(end)"
   ]
  },
  {
   "cell_type": "markdown",
   "id": "2cb17b3e-66f5-40cb-8a15-5e54584d4013",
   "metadata": {},
   "source": [
    "### Open multiple files as a single dataset and subset over the chosen time interval"
   ]
  },
  {
   "cell_type": "code",
   "execution_count": null,
   "id": "c420267c-8f32-4235-8aa8-01c9d9299bba",
   "metadata": {},
   "outputs": [],
   "source": [
    "dset_dict = xr.open_mfdataset(cat.df[\"path\"], parallel=True,engine=\"netcdf4\")\n",
    "dset_dict"
   ]
  },
  {
   "cell_type": "code",
   "execution_count": null,
   "id": "5acb6391-0de5-498e-bfc1-da7dbcfcf5e9",
   "metadata": {},
   "outputs": [],
   "source": [
    "tas_year_xr = dset_dict[\"tasmax\"].sel(time=dset_dict.time.dt.year.isin(range(start.value, end.value+1)))\n",
    "tas_year_xr"
   ]
  },
  {
   "cell_type": "markdown",
   "id": "8596f513-fcb5-4cd5-97d6-6f17f01aaf7d",
   "metadata": {},
   "source": [
    "### Find the nearest model coordinate\n",
    "\n",
    "by finding the index of the nearest grid point"
   ]
  },
  {
   "cell_type": "code",
   "execution_count": null,
   "id": "e2034a61-9397-4d42-abeb-67e89f2c3804",
   "metadata": {},
   "outputs": [],
   "source": [
    "def find_nearest(lat_input, long_input):\n",
    "\n",
    "    lat_index  = np.nanargmin((tas_year_xr[\"lat\"]-lat_input)**2)\n",
    "    lon_index = np.nanargmin((tas_year_xr[\"lon\"]-long_input)**2)\n",
    "    return lon_index,lat_index\n",
    "\n",
    "([xloc, yloc]) = find_nearest(location.latitude,location.longitude) # xloc and yloc are the indices of the nearest model grid point"
   ]
  },
  {
   "cell_type": "markdown",
   "id": "d42cc006-71ca-4420-bcf8-13045cb6ba7e",
   "metadata": {},
   "source": [
    "### Draw the map again"
   ]
  },
  {
   "cell_type": "code",
   "execution_count": null,
   "id": "2835dc55-ae2f-4bd5-8e03-5576834c6ec3",
   "metadata": {},
   "outputs": [],
   "source": [
    "m = folium.Map(location=[location.latitude, location.longitude], zoom_start=8)\n",
    "\n",
    "tooltip = location.latitude, location.longitude\n",
    "folium.Marker(\n",
    "    [location.latitude, location.longitude],\n",
    "    tooltip=tooltip,\n",
    "    popup=\"Location selected by You\",\n",
    ").add_to(m)\n",
    "\n",
    "\n",
    "tooltip = float(tas_year_xr[\"lat\"][yloc].values), float(tas_year_xr[\"lon\"][xloc].values)\n",
    "folium.Marker(\n",
    "    [tas_year_xr[\"lat\"][yloc], tas_year_xr[\"lon\"][xloc]],\n",
    "    tooltip=tooltip,\n",
    "    popup=\"Model Grid Cell Center\",\n",
    ").add_to(m)\n",
    "\n",
    "\n",
    "# Define coordinates of model grid cell (just for visualization)\n",
    "\n",
    "rect_lat1_model = (tas_year_xr[\"lat\"][yloc - 1] + tas_year_xr[\"lat\"][yloc]) / 2\n",
    "rect_lon1_model = (tas_year_xr[\"lon\"][xloc - 1] + tas_year_xr[\"lon\"][xloc]) / 2\n",
    "rect_lat2_model = (tas_year_xr[\"lat\"][yloc + 1] + tas_year_xr[\"lat\"][yloc]) / 2\n",
    "rect_lon2_model = (tas_year_xr[\"lon\"][xloc + 1] + tas_year_xr[\"lon\"][xloc]) / 2\n",
    "\n",
    "\n",
    "# Draw model grid cell\n",
    "\n",
    "folium.Rectangle(\n",
    "    bounds=[[rect_lat1_model, rect_lon1_model], [rect_lat2_model, rect_lon2_model]],\n",
    "    color=\"#ff7800\",\n",
    "    fill=True,\n",
    "    fill_color=\"#ffff00\",\n",
    "    fill_opacity=0.2,\n",
    ").add_to(m)\n",
    "\n",
    "m"
   ]
  },
  {
   "cell_type": "markdown",
   "id": "408ac877-a19e-44bc-9872-3f00bcf20779",
   "metadata": {},
   "source": [
    "### Get data for the nearest model coordinate and plot it on a interactive graph\n",
    " - Select the chosen spatial point\n",
    " - Convert Kelvin to °C\n",
    " - Convert `CFTimeIndex` to a Pandas `DatetimeIndex` to avoid plotting issues (labels, indexes, ...) \n",
    " - Create a dataframe to accommodate a) the selected model data and b) the Summer Day Threshold\n",
    " - Plot data with `hvplot`"
   ]
  },
  {
   "cell_type": "code",
   "execution_count": null,
   "id": "f0156f22-90be-40ea-bfdd-f63509ad5367",
   "metadata": {},
   "outputs": [],
   "source": [
    "%%time\n",
    "tasmax_year_place_xr = tas_year_xr[:, yloc, xloc] - 273.15\n",
    "tasmax_year_place_xr[\"time\"] = tasmax_year_place_xr.indexes[\"time\"].to_datetimeindex()\n",
    "tasmax_year_place_xr"
   ]
  },
  {
   "cell_type": "code",
   "execution_count": null,
   "id": "22a75d3e-ae77-42bb-b386-73da7a54cfc5",
   "metadata": {},
   "outputs": [],
   "source": [
    "%%time\n",
    "tasmax_year_place_df = pd.DataFrame(index = tasmax_year_place_xr['time'].values, \n",
    "                                    columns = ['Model Temperature', 'Summer Day Threshold'])\n",
    "\n",
    "tasmax_year_place_df.loc[:, 'Model Temperature'] = tasmax_year_place_xr.values # Model data\n",
    "tasmax_year_place_df.loc[:, 'Summer Day Threshold'] = 25                       # Summer Day Threshold\n",
    "\n",
    "# Plot data and define title and legend\n",
    "tasmax_year_place_df.hvplot.line(y=['Model Temperature', 'Summer Day Threshold'], \n",
    "                                 value_label='Temperature in °C', legend='bottom', \n",
    "                                 title='Daily-Maximum Near-Surface Air Temperature for '+place_box.value, \n",
    "                                 height=500, width=620)"
   ]
  },
  {
   "cell_type": "markdown",
   "id": "667a11d1-cb06-47b3-9690-3a0e9424486d",
   "metadata": {},
   "source": [
    "### Compute the Summer days climate index\n",
    "\n",
    "Starting from the daily maximum temperature `TX`,\n",
    "the **Summer Days** index is the number of days where $TX > T$ (`T` is  a reference temperature, e.g. 25°C)"
   ]
  },
  {
   "cell_type": "code",
   "execution_count": null,
   "id": "db4af9dd-a31d-48e5-bdec-9410bfed1248",
   "metadata": {},
   "outputs": [],
   "source": [
    "%%time\n",
    "summer_days = xr.where(tasmax_year_place_xr>25.0, 1, 0).groupby('time.year').sum()\n",
    "summer_days"
   ]
  },
  {
   "cell_type": "code",
   "execution_count": null,
   "id": "0524dda3-92a0-4987-8c9f-eae2e0b89f54",
   "metadata": {},
   "outputs": [],
   "source": [
    "%%time\n",
    "summer_days_df = pd.DataFrame(index = summer_days['year'].values, \n",
    "            columns = ['Summer Days'])\n",
    "\n",
    "summer_days_df.loc[:, 'Summer Days'] = summer_days.values\n",
    "\n",
    "summer_days_df.hvplot.line(y=['Summer Days'],\n",
    "            value_label='Summer Days', legend='bottom', \n",
    "            title='Number of Summer Days in '+place_box.value+\" in \"+str(start.value)+\"-\"+str(end.value), \n",
    "            height=500, width=620)"
   ]
  },
  {
   "cell_type": "code",
   "execution_count": null,
   "id": "e3adfb81-5ac2-4c35-84f5-34b76ff3db94",
   "metadata": {},
   "outputs": [],
   "source": []
  },
  {
   "cell_type": "code",
   "execution_count": null,
   "id": "3549180e-82de-40bb-ae8b-d1613aab07ff",
   "metadata": {},
   "outputs": [],
   "source": []
  }
 ],
 "metadata": {
  "kernelspec": {
   "display_name": "Python 3 (ipykernel)",
   "language": "python",
   "name": "python3"
  },
  "language_info": {
   "codemirror_mode": {
    "name": "ipython",
    "version": 3
   },
   "file_extension": ".py",
   "mimetype": "text/x-python",
   "name": "python",
   "nbconvert_exporter": "python",
   "pygments_lexer": "ipython3",
   "version": "3.7.12"
  }
 },
 "nbformat": 4,
 "nbformat_minor": 5
}
